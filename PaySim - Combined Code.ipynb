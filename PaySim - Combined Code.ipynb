{
 "cells": [
  {
   "cell_type": "markdown",
   "metadata": {},
   "source": [
    "# An Analysis of PaySim: Synthetic Financial Dataset for Fraud Detection\n",
    "# ISYS 812 - Fall 2019\n",
    "# Hua Lu, Kelley Nelson, Sai Punith, Xiaomin Lin"
   ]
  },
  {
   "cell_type": "markdown",
   "metadata": {},
   "source": [
    "## Data cleaning"
   ]
  },
  {
   "cell_type": "code",
   "execution_count": 1,
   "metadata": {},
   "outputs": [],
   "source": [
    "#Load libraries\n",
    "import statsmodels.formula.api as smf\n",
    "import seaborn as sns\n",
    "import numpy as np\n",
    "from sklearn import linear_model\n",
    "import pandas as pd\n",
    "import matplotlib.pyplot as plt"
   ]
  },
  {
   "cell_type": "markdown",
   "metadata": {},
   "source": [
    "#Load original dataset and explore data.\n",
    "paysim_orig = pd.read_csv ('paysim.csv')\n",
    "paysim_orig.shape\n",
    "paysim_orig.head()"
   ]
  },
  {
   "cell_type": "markdown",
   "metadata": {},
   "source": [
    "print (paysim_orig.count())"
   ]
  },
  {
   "cell_type": "markdown",
   "metadata": {},
   "source": [
    "There are no missing values. However, the data set is very large so we take a 10% sample size."
   ]
  },
  {
   "cell_type": "markdown",
   "metadata": {},
   "source": [
    "paysim = paysim_orig.sample (frac = .1, random_state = 1) \n",
    "#selecting a number for random_state means the sample can be reproduced"
   ]
  },
  {
   "cell_type": "markdown",
   "metadata": {},
   "source": [
    "We check that the percentage of fraud cases is similar between the original and sample datasets."
   ]
  },
  {
   "cell_type": "markdown",
   "metadata": {},
   "source": [
    "fraud_orig = paysim_orig[paysim_orig['isFraud'] == 1].shape[0] / paysim_orig.shape [0]\n",
    "fraud_orig = round (fraud_orig, 7)\n",
    "print ('Percentage of fraud cases in original dataset: ' + str (fraud_orig *100) + '%')\n",
    "fraud_sample = paysim[paysim['isFraud'] == 1].shape[0] / paysim.shape [0]\n",
    "fraud_sample = round (fraud_sample, 7)\n",
    "print ('Percentage of fraud cases in sample dataset: ' + str (fraud_sample *100) + '%')"
   ]
  },
  {
   "cell_type": "markdown",
   "metadata": {},
   "source": [
    "paysim.to_csv ('paysim_sample.csv', index = False)"
   ]
  },
  {
   "cell_type": "code",
   "execution_count": 2,
   "metadata": {},
   "outputs": [
    {
     "data": {
      "text/plain": [
       "(636262, 11)"
      ]
     },
     "execution_count": 2,
     "metadata": {},
     "output_type": "execute_result"
    }
   ],
   "source": [
    "paysim = pd.read_csv ('paysim_sample.csv')\n",
    "paysim.shape"
   ]
  },
  {
   "cell_type": "markdown",
   "metadata": {},
   "source": [
    "The number of isFlaggedFraud cases in the original dataset is very small. We check to see whether there are any \"flagged fraud\" cases in the sample."
   ]
  },
  {
   "cell_type": "code",
   "execution_count": 3,
   "metadata": {},
   "outputs": [
    {
     "data": {
      "text/html": [
       "<div>\n",
       "<style scoped>\n",
       "    .dataframe tbody tr th:only-of-type {\n",
       "        vertical-align: middle;\n",
       "    }\n",
       "\n",
       "    .dataframe tbody tr th {\n",
       "        vertical-align: top;\n",
       "    }\n",
       "\n",
       "    .dataframe thead th {\n",
       "        text-align: right;\n",
       "    }\n",
       "</style>\n",
       "<table border=\"1\" class=\"dataframe\">\n",
       "  <thead>\n",
       "    <tr style=\"text-align: right;\">\n",
       "      <th></th>\n",
       "      <th>step</th>\n",
       "      <th>type</th>\n",
       "      <th>amount</th>\n",
       "      <th>nameOrig</th>\n",
       "      <th>oldbalanceOrg</th>\n",
       "      <th>newbalanceOrig</th>\n",
       "      <th>nameDest</th>\n",
       "      <th>oldbalanceDest</th>\n",
       "      <th>newbalanceDest</th>\n",
       "      <th>isFraud</th>\n",
       "      <th>isFlaggedFraud</th>\n",
       "    </tr>\n",
       "  </thead>\n",
       "  <tbody>\n",
       "  </tbody>\n",
       "</table>\n",
       "</div>"
      ],
      "text/plain": [
       "Empty DataFrame\n",
       "Columns: [step, type, amount, nameOrig, oldbalanceOrg, newbalanceOrig, nameDest, oldbalanceDest, newbalanceDest, isFraud, isFlaggedFraud]\n",
       "Index: []"
      ]
     },
     "execution_count": 3,
     "metadata": {},
     "output_type": "execute_result"
    }
   ],
   "source": [
    "isFlagged = paysim [paysim ['isFlaggedFraud'] == 1]\n",
    "isFlagged"
   ]
  },
  {
   "cell_type": "markdown",
   "metadata": {},
   "source": [
    "Since there are no \"flagged fraud\" cases in the sample and we are not using it for our analysis, we remove that column. "
   ]
  },
  {
   "cell_type": "code",
   "execution_count": 4,
   "metadata": {},
   "outputs": [],
   "source": [
    "paysim = paysim.drop('isFlaggedFraud', axis = 1)"
   ]
  },
  {
   "cell_type": "markdown",
   "metadata": {},
   "source": [
    "In the 'nameDest' column, an 'M' indicates the destination account is a merchant. "
   ]
  },
  {
   "cell_type": "code",
   "execution_count": 5,
   "metadata": {},
   "outputs": [
    {
     "data": {
      "text/html": [
       "<div>\n",
       "<style scoped>\n",
       "    .dataframe tbody tr th:only-of-type {\n",
       "        vertical-align: middle;\n",
       "    }\n",
       "\n",
       "    .dataframe tbody tr th {\n",
       "        vertical-align: top;\n",
       "    }\n",
       "\n",
       "    .dataframe thead th {\n",
       "        text-align: right;\n",
       "    }\n",
       "</style>\n",
       "<table border=\"1\" class=\"dataframe\">\n",
       "  <thead>\n",
       "    <tr style=\"text-align: right;\">\n",
       "      <th></th>\n",
       "      <th>type</th>\n",
       "      <th>amount</th>\n",
       "      <th>oldbalanceOrg</th>\n",
       "      <th>newbalanceOrig</th>\n",
       "      <th>oldbalanceDest</th>\n",
       "      <th>newbalanceDest</th>\n",
       "      <th>isFraud</th>\n",
       "      <th>is_merchant</th>\n",
       "    </tr>\n",
       "  </thead>\n",
       "  <tbody>\n",
       "    <tr>\n",
       "      <th>0</th>\n",
       "      <td>CASH_IN</td>\n",
       "      <td>23557.12</td>\n",
       "      <td>8059.00</td>\n",
       "      <td>31616.12</td>\n",
       "      <td>169508.66</td>\n",
       "      <td>145951.53</td>\n",
       "      <td>0</td>\n",
       "      <td>0</td>\n",
       "    </tr>\n",
       "    <tr>\n",
       "      <th>1</th>\n",
       "      <td>PAYMENT</td>\n",
       "      <td>6236.13</td>\n",
       "      <td>0.00</td>\n",
       "      <td>0.00</td>\n",
       "      <td>0.00</td>\n",
       "      <td>0.00</td>\n",
       "      <td>0</td>\n",
       "      <td>1</td>\n",
       "    </tr>\n",
       "    <tr>\n",
       "      <th>2</th>\n",
       "      <td>PAYMENT</td>\n",
       "      <td>33981.87</td>\n",
       "      <td>18745.72</td>\n",
       "      <td>0.00</td>\n",
       "      <td>0.00</td>\n",
       "      <td>0.00</td>\n",
       "      <td>0</td>\n",
       "      <td>1</td>\n",
       "    </tr>\n",
       "    <tr>\n",
       "      <th>3</th>\n",
       "      <td>CASH_OUT</td>\n",
       "      <td>263006.42</td>\n",
       "      <td>20072.00</td>\n",
       "      <td>0.00</td>\n",
       "      <td>390253.56</td>\n",
       "      <td>653259.98</td>\n",
       "      <td>0</td>\n",
       "      <td>0</td>\n",
       "    </tr>\n",
       "    <tr>\n",
       "      <th>4</th>\n",
       "      <td>CASH_OUT</td>\n",
       "      <td>152013.74</td>\n",
       "      <td>20765.00</td>\n",
       "      <td>0.00</td>\n",
       "      <td>252719.19</td>\n",
       "      <td>404732.93</td>\n",
       "      <td>0</td>\n",
       "      <td>0</td>\n",
       "    </tr>\n",
       "  </tbody>\n",
       "</table>\n",
       "</div>"
      ],
      "text/plain": [
       "       type     amount  oldbalanceOrg  newbalanceOrig  oldbalanceDest  \\\n",
       "0   CASH_IN   23557.12        8059.00        31616.12       169508.66   \n",
       "1   PAYMENT    6236.13           0.00            0.00            0.00   \n",
       "2   PAYMENT   33981.87       18745.72            0.00            0.00   \n",
       "3  CASH_OUT  263006.42       20072.00            0.00       390253.56   \n",
       "4  CASH_OUT  152013.74       20765.00            0.00       252719.19   \n",
       "\n",
       "   newbalanceDest  isFraud  is_merchant  \n",
       "0       145951.53        0            0  \n",
       "1            0.00        0            1  \n",
       "2            0.00        0            1  \n",
       "3       653259.98        0            0  \n",
       "4       404732.93        0            0  "
      ]
     },
     "execution_count": 5,
     "metadata": {},
     "output_type": "execute_result"
    }
   ],
   "source": [
    "#Create function to indetify merchants vs. non-merchants.\n",
    "def is_merchant (vec):\n",
    "    for item in vec:\n",
    "        if 'C' in item:\n",
    "            return 0\n",
    "        if 'M' in item:\n",
    "            return 1\n",
    "\n",
    "#Apply function to 'nameDest'.\n",
    "paysim ['is_merchant'] = paysim ['nameDest'].apply (is_merchant)\n",
    "paysim.head(10)\n",
    "\n",
    "#Remove 'step', nameOrig' and 'nameDest' columns.\n",
    "paysim = paysim.drop(['nameOrig', 'nameDest', 'step'], axis = 1)\n",
    "paysim.head ()"
   ]
  },
  {
   "cell_type": "markdown",
   "metadata": {},
   "source": [
    "## Data Analysis"
   ]
  },
  {
   "cell_type": "markdown",
   "metadata": {},
   "source": [
    "### Analysis #1: Is there any difference in the proportion of fraudulent transactions involving merchants vs. non-merchants?"
   ]
  },
  {
   "cell_type": "code",
   "execution_count": 6,
   "metadata": {},
   "outputs": [
    {
     "data": {
      "image/png": "[encoded data removed]",
      "text/plain": [
       "<Figure size 432x288 with 1 Axes>"
      ]
     },
     "metadata": {
      "needs_background": "light"
     },
     "output_type": "display_data"
    }
   ],
   "source": [
    "#Plot the number of transactions involving merchants as compared to non-merchants.\n",
    "count, ax = plt.subplots()\n",
    "ax = sns.countplot (x = 'is_merchant', data = paysim)\n",
    "ax.set_title (\"Countplot of Transactions to Destination Account Type\")\n",
    "ax.set_xlabel (\"Non-merchant (0) vs. Merchant (1)\")\n",
    "ax.set_ylabel (\"Frequency\")\n",
    "plt.show()"
   ]
  },
  {
   "cell_type": "code",
   "execution_count": 7,
   "metadata": {},
   "outputs": [
    {
     "data": {
      "text/html": [
       "<div>\n",
       "<style scoped>\n",
       "    .dataframe tbody tr th:only-of-type {\n",
       "        vertical-align: middle;\n",
       "    }\n",
       "\n",
       "    .dataframe tbody tr th {\n",
       "        vertical-align: top;\n",
       "    }\n",
       "\n",
       "    .dataframe thead th {\n",
       "        text-align: right;\n",
       "    }\n",
       "</style>\n",
       "<table border=\"1\" class=\"dataframe\">\n",
       "  <thead>\n",
       "    <tr style=\"text-align: right;\">\n",
       "      <th></th>\n",
       "      <th>is_merchant</th>\n",
       "      <th>isFraud</th>\n",
       "    </tr>\n",
       "  </thead>\n",
       "  <tbody>\n",
       "    <tr>\n",
       "      <th>0</th>\n",
       "      <td>0</td>\n",
       "      <td>819</td>\n",
       "    </tr>\n",
       "    <tr>\n",
       "      <th>1</th>\n",
       "      <td>1</td>\n",
       "      <td>0</td>\n",
       "    </tr>\n",
       "  </tbody>\n",
       "</table>\n",
       "</div>"
      ],
      "text/plain": [
       "   is_merchant  isFraud\n",
       "0            0      819\n",
       "1            1        0"
      ]
     },
     "execution_count": 7,
     "metadata": {},
     "output_type": "execute_result"
    }
   ],
   "source": [
    "#Group the data by merchant vs. non-merchant, and sum the number of fraudulent cases for each. \n",
    "merch_cust = paysim.groupby('is_merchant').isFraud.sum().reset_index()\n",
    "merch_cust"
   ]
  },
  {
   "cell_type": "markdown",
   "metadata": {},
   "source": [
    "Analysis #1 conclusion: There are no fraudulent transactions involving merchants."
   ]
  },
  {
   "cell_type": "markdown",
   "metadata": {},
   "source": [
    "### Analysis #2: Which types of transactions are fraudulent? What amount of fraudulent transactions does each type have? "
   ]
  },
  {
   "cell_type": "code",
   "execution_count": 8,
   "metadata": {},
   "outputs": [
    {
     "data": {
      "text/html": [
       "<div>\n",
       "<style scoped>\n",
       "    .dataframe tbody tr th:only-of-type {\n",
       "        vertical-align: middle;\n",
       "    }\n",
       "\n",
       "    .dataframe tbody tr th {\n",
       "        vertical-align: top;\n",
       "    }\n",
       "\n",
       "    .dataframe thead th {\n",
       "        text-align: right;\n",
       "    }\n",
       "</style>\n",
       "<table border=\"1\" class=\"dataframe\">\n",
       "  <thead>\n",
       "    <tr style=\"text-align: right;\">\n",
       "      <th></th>\n",
       "      <th>amount</th>\n",
       "      <th>oldbalanceOrg</th>\n",
       "      <th>newbalanceOrig</th>\n",
       "      <th>oldbalanceDest</th>\n",
       "      <th>newbalanceDest</th>\n",
       "      <th>isFraud</th>\n",
       "      <th>is_merchant</th>\n",
       "    </tr>\n",
       "  </thead>\n",
       "  <tbody>\n",
       "    <tr>\n",
       "      <th>count</th>\n",
       "      <td>6.362620e+05</td>\n",
       "      <td>6.362620e+05</td>\n",
       "      <td>6.362620e+05</td>\n",
       "      <td>6.362620e+05</td>\n",
       "      <td>6.362620e+05</td>\n",
       "      <td>636262.000000</td>\n",
       "      <td>636262.000000</td>\n",
       "    </tr>\n",
       "    <tr>\n",
       "      <th>mean</th>\n",
       "      <td>1.797005e+05</td>\n",
       "      <td>8.366566e+05</td>\n",
       "      <td>8.579998e+05</td>\n",
       "      <td>1.096128e+06</td>\n",
       "      <td>1.220355e+06</td>\n",
       "      <td>0.001287</td>\n",
       "      <td>0.337469</td>\n",
       "    </tr>\n",
       "    <tr>\n",
       "      <th>std</th>\n",
       "      <td>5.913780e+05</td>\n",
       "      <td>2.892569e+06</td>\n",
       "      <td>2.928367e+06</td>\n",
       "      <td>3.303671e+06</td>\n",
       "      <td>3.578730e+06</td>\n",
       "      <td>0.035855</td>\n",
       "      <td>0.472847</td>\n",
       "    </tr>\n",
       "    <tr>\n",
       "      <th>min</th>\n",
       "      <td>0.000000e+00</td>\n",
       "      <td>0.000000e+00</td>\n",
       "      <td>0.000000e+00</td>\n",
       "      <td>0.000000e+00</td>\n",
       "      <td>0.000000e+00</td>\n",
       "      <td>0.000000</td>\n",
       "      <td>0.000000</td>\n",
       "    </tr>\n",
       "    <tr>\n",
       "      <th>25%</th>\n",
       "      <td>1.338487e+04</td>\n",
       "      <td>0.000000e+00</td>\n",
       "      <td>0.000000e+00</td>\n",
       "      <td>0.000000e+00</td>\n",
       "      <td>0.000000e+00</td>\n",
       "      <td>0.000000</td>\n",
       "      <td>0.000000</td>\n",
       "    </tr>\n",
       "    <tr>\n",
       "      <th>50%</th>\n",
       "      <td>7.527145e+04</td>\n",
       "      <td>1.416326e+04</td>\n",
       "      <td>0.000000e+00</td>\n",
       "      <td>1.330648e+05</td>\n",
       "      <td>2.150250e+05</td>\n",
       "      <td>0.000000</td>\n",
       "      <td>0.000000</td>\n",
       "    </tr>\n",
       "    <tr>\n",
       "      <th>75%</th>\n",
       "      <td>2.090753e+05</td>\n",
       "      <td>1.074859e+05</td>\n",
       "      <td>1.448757e+05</td>\n",
       "      <td>9.462169e+05</td>\n",
       "      <td>1.114690e+06</td>\n",
       "      <td>0.000000</td>\n",
       "      <td>1.000000</td>\n",
       "    </tr>\n",
       "    <tr>\n",
       "      <th>max</th>\n",
       "      <td>6.750076e+07</td>\n",
       "      <td>5.731626e+07</td>\n",
       "      <td>4.731626e+07</td>\n",
       "      <td>3.281945e+08</td>\n",
       "      <td>3.279981e+08</td>\n",
       "      <td>1.000000</td>\n",
       "      <td>1.000000</td>\n",
       "    </tr>\n",
       "  </tbody>\n",
       "</table>\n",
       "</div>"
      ],
      "text/plain": [
       "             amount  oldbalanceOrg  newbalanceOrig  oldbalanceDest  \\\n",
       "count  6.362620e+05   6.362620e+05    6.362620e+05    6.362620e+05   \n",
       "mean   1.797005e+05   8.366566e+05    8.579998e+05    1.096128e+06   \n",
       "std    5.913780e+05   2.892569e+06    2.928367e+06    3.303671e+06   \n",
       "min    0.000000e+00   0.000000e+00    0.000000e+00    0.000000e+00   \n",
       "25%    1.338487e+04   0.000000e+00    0.000000e+00    0.000000e+00   \n",
       "50%    7.527145e+04   1.416326e+04    0.000000e+00    1.330648e+05   \n",
       "75%    2.090753e+05   1.074859e+05    1.448757e+05    9.462169e+05   \n",
       "max    6.750076e+07   5.731626e+07    4.731626e+07    3.281945e+08   \n",
       "\n",
       "       newbalanceDest        isFraud    is_merchant  \n",
       "count    6.362620e+05  636262.000000  636262.000000  \n",
       "mean     1.220355e+06       0.001287       0.337469  \n",
       "std      3.578730e+06       0.035855       0.472847  \n",
       "min      0.000000e+00       0.000000       0.000000  \n",
       "25%      0.000000e+00       0.000000       0.000000  \n",
       "50%      2.150250e+05       0.000000       0.000000  \n",
       "75%      1.114690e+06       0.000000       1.000000  \n",
       "max      3.279981e+08       1.000000       1.000000  "
      ]
     },
     "execution_count": 8,
     "metadata": {},
     "output_type": "execute_result"
    }
   ],
   "source": [
    "#Check Dataset informatiom\n",
    "paysim.describe()"
   ]
  },
  {
   "cell_type": "code",
   "execution_count": 9,
   "metadata": {},
   "outputs": [
    {
     "data": {
      "text/plain": [
       "CASH_OUT    223880\n",
       "PAYMENT     214719\n",
       "CASH_IN     140287\n",
       "TRANSFER     53211\n",
       "DEBIT         4165\n",
       "Name: type, dtype: int64"
      ]
     },
     "execution_count": 9,
     "metadata": {},
     "output_type": "execute_result"
    }
   ],
   "source": [
    "#get transactions' type and count\n",
    "paysim['type'].value_counts()"
   ]
  },
  {
   "cell_type": "code",
   "execution_count": 10,
   "metadata": {},
   "outputs": [
    {
     "data": {
      "text/html": [
       "<div>\n",
       "<style scoped>\n",
       "    .dataframe tbody tr th:only-of-type {\n",
       "        vertical-align: middle;\n",
       "    }\n",
       "\n",
       "    .dataframe tbody tr th {\n",
       "        vertical-align: top;\n",
       "    }\n",
       "\n",
       "    .dataframe thead th {\n",
       "        text-align: right;\n",
       "    }\n",
       "</style>\n",
       "<table border=\"1\" class=\"dataframe\">\n",
       "  <thead>\n",
       "    <tr style=\"text-align: right;\">\n",
       "      <th></th>\n",
       "      <th>type</th>\n",
       "      <th>amount</th>\n",
       "      <th>oldbalanceOrg</th>\n",
       "      <th>newbalanceOrig</th>\n",
       "      <th>oldbalanceDest</th>\n",
       "      <th>newbalanceDest</th>\n",
       "      <th>isFraud</th>\n",
       "      <th>is_merchant</th>\n",
       "    </tr>\n",
       "  </thead>\n",
       "  <tbody>\n",
       "    <tr>\n",
       "      <th>0</th>\n",
       "      <td>CASH_IN</td>\n",
       "      <td>2.364494e+10</td>\n",
       "      <td>5.040787e+11</td>\n",
       "      <td>5.277232e+11</td>\n",
       "      <td>2.223363e+11</td>\n",
       "      <td>2.054089e+11</td>\n",
       "      <td>0</td>\n",
       "      <td>0</td>\n",
       "    </tr>\n",
       "    <tr>\n",
       "      <th>1</th>\n",
       "      <td>CASH_OUT</td>\n",
       "      <td>3.960701e+10</td>\n",
       "      <td>1.028621e+10</td>\n",
       "      <td>3.897205e+09</td>\n",
       "      <td>3.343372e+11</td>\n",
       "      <td>3.778505e+11</td>\n",
       "      <td>420</td>\n",
       "      <td>0</td>\n",
       "    </tr>\n",
       "    <tr>\n",
       "      <th>2</th>\n",
       "      <td>DEBIT</td>\n",
       "      <td>2.292168e+07</td>\n",
       "      <td>2.906248e+08</td>\n",
       "      <td>2.761854e+08</td>\n",
       "      <td>5.872148e+09</td>\n",
       "      <td>5.957323e+09</td>\n",
       "      <td>0</td>\n",
       "      <td>0</td>\n",
       "    </tr>\n",
       "    <tr>\n",
       "      <th>3</th>\n",
       "      <td>PAYMENT</td>\n",
       "      <td>2.799228e+09</td>\n",
       "      <td>1.477273e+10</td>\n",
       "      <td>1.340902e+10</td>\n",
       "      <td>0.000000e+00</td>\n",
       "      <td>0.000000e+00</td>\n",
       "      <td>0</td>\n",
       "      <td>214719</td>\n",
       "    </tr>\n",
       "    <tr>\n",
       "      <th>4</th>\n",
       "      <td>TRANSFER</td>\n",
       "      <td>4.826248e+10</td>\n",
       "      <td>2.904495e+09</td>\n",
       "      <td>6.070343e+08</td>\n",
       "      <td>1.348788e+11</td>\n",
       "      <td>1.872491e+11</td>\n",
       "      <td>399</td>\n",
       "      <td>0</td>\n",
       "    </tr>\n",
       "  </tbody>\n",
       "</table>\n",
       "</div>"
      ],
      "text/plain": [
       "       type        amount  oldbalanceOrg  newbalanceOrig  oldbalanceDest  \\\n",
       "0   CASH_IN  2.364494e+10   5.040787e+11    5.277232e+11    2.223363e+11   \n",
       "1  CASH_OUT  3.960701e+10   1.028621e+10    3.897205e+09    3.343372e+11   \n",
       "2     DEBIT  2.292168e+07   2.906248e+08    2.761854e+08    5.872148e+09   \n",
       "3   PAYMENT  2.799228e+09   1.477273e+10    1.340902e+10    0.000000e+00   \n",
       "4  TRANSFER  4.826248e+10   2.904495e+09    6.070343e+08    1.348788e+11   \n",
       "\n",
       "   newbalanceDest  isFraud  is_merchant  \n",
       "0    2.054089e+11        0            0  \n",
       "1    3.778505e+11      420            0  \n",
       "2    5.957323e+09        0            0  \n",
       "3    0.000000e+00        0       214719  \n",
       "4    1.872491e+11      399            0  "
      ]
     },
     "execution_count": 10,
     "metadata": {},
     "output_type": "execute_result"
    }
   ],
   "source": [
    "#By using groupby by type: we will find out that there are\n",
    "# only two types of transaction have Fraud occured.\n",
    "total_fraud = paysim.groupby(['type']).sum().reset_index()\n",
    "total_fraud"
   ]
  },
  {
   "cell_type": "code",
   "execution_count": 11,
   "metadata": {},
   "outputs": [
    {
     "data": {
      "image/png": "[encoded data removed]",
      "text/plain": [
       "<Figure size 432x288 with 1 Axes>"
      ]
     },
     "metadata": {
      "needs_background": "light"
     },
     "output_type": "display_data"
    }
   ],
   "source": [
    "#create histgram:\n",
    "count, ax = plt.subplots()\n",
    "\n",
    "ax = sns.barplot(x ='type', y ='isFraud', data = total_fraud, hue='type' , palette =\"Set2\")\n",
    "\n",
    "ax.set_title('Countplot of Type')\n",
    "ax.set_xlabel('Types')\n",
    "ax.set_ylabel('Fraud')\n",
    "\n",
    "plt.show()"
   ]
  },
  {
   "cell_type": "code",
   "execution_count": 14,
   "metadata": {},
   "outputs": [
    {
     "data": {
      "text/plain": [
       "39607009549.65948"
      ]
     },
     "execution_count": 14,
     "metadata": {},
     "output_type": "execute_result"
    }
   ],
   "source": [
    "cash_out = total_fraud['amount'][1].sum()\n",
    "cash_out"
   ]
  },
  {
   "cell_type": "code",
   "execution_count": 15,
   "metadata": {},
   "outputs": [
    {
     "data": {
      "text/plain": [
       "48262484436.690506"
      ]
     },
     "execution_count": 15,
     "metadata": {},
     "output_type": "execute_result"
    }
   ],
   "source": [
    "transfer = total_fraud['amount'][4].sum()\n",
    "transfer"
   ]
  },
  {
   "cell_type": "markdown",
   "metadata": {},
   "source": [
    "#### Analysis 2 conclusion: only cash_out and transfer appear fraud transactions. They amount of cash_out fraud is #39,607,009,549.65948 and transfer is $48,262,484,436.690506.\n"
   ]
  },
  {
   "cell_type": "markdown",
   "metadata": {},
   "source": [
    "### Analysis #3: How to judge the fraudulent transactions? The difference between the new balance of fraudulent transaction and old balance."
   ]
  },
  {
   "cell_type": "code",
   "execution_count": 16,
   "metadata": {},
   "outputs": [],
   "source": [
    "True_Fraud = paysim[paysim.isFraud == 1]\n",
    "Non_Fraud = paysim[paysim.isFraud == 0]"
   ]
  },
  {
   "cell_type": "code",
   "execution_count": 17,
   "metadata": {},
   "outputs": [
    {
     "data": {
      "text/html": [
       "<div>\n",
       "<style scoped>\n",
       "    .dataframe tbody tr th:only-of-type {\n",
       "        vertical-align: middle;\n",
       "    }\n",
       "\n",
       "    .dataframe tbody tr th {\n",
       "        vertical-align: top;\n",
       "    }\n",
       "\n",
       "    .dataframe thead th {\n",
       "        text-align: right;\n",
       "    }\n",
       "</style>\n",
       "<table border=\"1\" class=\"dataframe\">\n",
       "  <thead>\n",
       "    <tr style=\"text-align: right;\">\n",
       "      <th></th>\n",
       "      <th>type</th>\n",
       "      <th>amount</th>\n",
       "      <th>oldbalanceOrg</th>\n",
       "      <th>newbalanceOrig</th>\n",
       "      <th>oldbalanceDest</th>\n",
       "      <th>newbalanceDest</th>\n",
       "      <th>isFraud</th>\n",
       "      <th>is_merchant</th>\n",
       "    </tr>\n",
       "  </thead>\n",
       "  <tbody>\n",
       "    <tr>\n",
       "      <th>218</th>\n",
       "      <td>CASH_OUT</td>\n",
       "      <td>472692.51</td>\n",
       "      <td>472692.51</td>\n",
       "      <td>0.0</td>\n",
       "      <td>193065.83</td>\n",
       "      <td>665758.34</td>\n",
       "      <td>1</td>\n",
       "      <td>0</td>\n",
       "    </tr>\n",
       "    <tr>\n",
       "      <th>437</th>\n",
       "      <td>TRANSFER</td>\n",
       "      <td>70696.74</td>\n",
       "      <td>70696.74</td>\n",
       "      <td>0.0</td>\n",
       "      <td>0.00</td>\n",
       "      <td>0.00</td>\n",
       "      <td>1</td>\n",
       "      <td>0</td>\n",
       "    </tr>\n",
       "    <tr>\n",
       "      <th>820</th>\n",
       "      <td>CASH_OUT</td>\n",
       "      <td>1418198.25</td>\n",
       "      <td>1418198.25</td>\n",
       "      <td>0.0</td>\n",
       "      <td>1488632.50</td>\n",
       "      <td>2906830.75</td>\n",
       "      <td>1</td>\n",
       "      <td>0</td>\n",
       "    </tr>\n",
       "    <tr>\n",
       "      <th>1288</th>\n",
       "      <td>TRANSFER</td>\n",
       "      <td>91637.51</td>\n",
       "      <td>91637.51</td>\n",
       "      <td>0.0</td>\n",
       "      <td>0.00</td>\n",
       "      <td>0.00</td>\n",
       "      <td>1</td>\n",
       "      <td>0</td>\n",
       "    </tr>\n",
       "    <tr>\n",
       "      <th>1433</th>\n",
       "      <td>CASH_OUT</td>\n",
       "      <td>455788.55</td>\n",
       "      <td>455788.55</td>\n",
       "      <td>0.0</td>\n",
       "      <td>0.00</td>\n",
       "      <td>455788.55</td>\n",
       "      <td>1</td>\n",
       "      <td>0</td>\n",
       "    </tr>\n",
       "  </tbody>\n",
       "</table>\n",
       "</div>"
      ],
      "text/plain": [
       "          type      amount  oldbalanceOrg  newbalanceOrig  oldbalanceDest  \\\n",
       "218   CASH_OUT   472692.51      472692.51             0.0       193065.83   \n",
       "437   TRANSFER    70696.74       70696.74             0.0            0.00   \n",
       "820   CASH_OUT  1418198.25     1418198.25             0.0      1488632.50   \n",
       "1288  TRANSFER    91637.51       91637.51             0.0            0.00   \n",
       "1433  CASH_OUT   455788.55      455788.55             0.0            0.00   \n",
       "\n",
       "      newbalanceDest  isFraud  is_merchant  \n",
       "218        665758.34        1            0  \n",
       "437             0.00        1            0  \n",
       "820       2906830.75        1            0  \n",
       "1288            0.00        1            0  \n",
       "1433       455788.55        1            0  "
      ]
     },
     "execution_count": 17,
     "metadata": {},
     "output_type": "execute_result"
    }
   ],
   "source": [
    "True_Fraud.head()"
   ]
  },
  {
   "cell_type": "code",
   "execution_count": 18,
   "metadata": {},
   "outputs": [
    {
     "data": {
      "text/html": [
       "<div>\n",
       "<style scoped>\n",
       "    .dataframe tbody tr th:only-of-type {\n",
       "        vertical-align: middle;\n",
       "    }\n",
       "\n",
       "    .dataframe tbody tr th {\n",
       "        vertical-align: top;\n",
       "    }\n",
       "\n",
       "    .dataframe thead th {\n",
       "        text-align: right;\n",
       "    }\n",
       "</style>\n",
       "<table border=\"1\" class=\"dataframe\">\n",
       "  <thead>\n",
       "    <tr style=\"text-align: right;\">\n",
       "      <th></th>\n",
       "      <th>type</th>\n",
       "      <th>amount</th>\n",
       "      <th>oldbalanceOrg</th>\n",
       "      <th>newbalanceOrig</th>\n",
       "      <th>oldbalanceDest</th>\n",
       "      <th>newbalanceDest</th>\n",
       "      <th>isFraud</th>\n",
       "      <th>is_merchant</th>\n",
       "    </tr>\n",
       "  </thead>\n",
       "  <tbody>\n",
       "    <tr>\n",
       "      <th>0</th>\n",
       "      <td>CASH_IN</td>\n",
       "      <td>23557.12</td>\n",
       "      <td>8059.00</td>\n",
       "      <td>31616.12</td>\n",
       "      <td>169508.66</td>\n",
       "      <td>145951.53</td>\n",
       "      <td>0</td>\n",
       "      <td>0</td>\n",
       "    </tr>\n",
       "    <tr>\n",
       "      <th>1</th>\n",
       "      <td>PAYMENT</td>\n",
       "      <td>6236.13</td>\n",
       "      <td>0.00</td>\n",
       "      <td>0.00</td>\n",
       "      <td>0.00</td>\n",
       "      <td>0.00</td>\n",
       "      <td>0</td>\n",
       "      <td>1</td>\n",
       "    </tr>\n",
       "    <tr>\n",
       "      <th>2</th>\n",
       "      <td>PAYMENT</td>\n",
       "      <td>33981.87</td>\n",
       "      <td>18745.72</td>\n",
       "      <td>0.00</td>\n",
       "      <td>0.00</td>\n",
       "      <td>0.00</td>\n",
       "      <td>0</td>\n",
       "      <td>1</td>\n",
       "    </tr>\n",
       "    <tr>\n",
       "      <th>3</th>\n",
       "      <td>CASH_OUT</td>\n",
       "      <td>263006.42</td>\n",
       "      <td>20072.00</td>\n",
       "      <td>0.00</td>\n",
       "      <td>390253.56</td>\n",
       "      <td>653259.98</td>\n",
       "      <td>0</td>\n",
       "      <td>0</td>\n",
       "    </tr>\n",
       "    <tr>\n",
       "      <th>4</th>\n",
       "      <td>CASH_OUT</td>\n",
       "      <td>152013.74</td>\n",
       "      <td>20765.00</td>\n",
       "      <td>0.00</td>\n",
       "      <td>252719.19</td>\n",
       "      <td>404732.93</td>\n",
       "      <td>0</td>\n",
       "      <td>0</td>\n",
       "    </tr>\n",
       "  </tbody>\n",
       "</table>\n",
       "</div>"
      ],
      "text/plain": [
       "       type     amount  oldbalanceOrg  newbalanceOrig  oldbalanceDest  \\\n",
       "0   CASH_IN   23557.12        8059.00        31616.12       169508.66   \n",
       "1   PAYMENT    6236.13           0.00            0.00            0.00   \n",
       "2   PAYMENT   33981.87       18745.72            0.00            0.00   \n",
       "3  CASH_OUT  263006.42       20072.00            0.00       390253.56   \n",
       "4  CASH_OUT  152013.74       20765.00            0.00       252719.19   \n",
       "\n",
       "   newbalanceDest  isFraud  is_merchant  \n",
       "0       145951.53        0            0  \n",
       "1            0.00        0            1  \n",
       "2            0.00        0            1  \n",
       "3       653259.98        0            0  \n",
       "4       404732.93        0            0  "
      ]
     },
     "execution_count": 18,
     "metadata": {},
     "output_type": "execute_result"
    }
   ],
   "source": [
    "Non_Fraud.head()"
   ]
  },
  {
   "cell_type": "code",
   "execution_count": 19,
   "metadata": {},
   "outputs": [
    {
     "name": "stderr",
     "output_type": "stream",
     "text": [
      "/anaconda3/lib/python3.7/site-packages/ipykernel_launcher.py:2: SettingWithCopyWarning: \n",
      "A value is trying to be set on a copy of a slice from a DataFrame.\n",
      "Try using .loc[row_indexer,col_indexer] = value instead\n",
      "\n",
      "See the caveats in the documentation: http://pandas.pydata.org/pandas-docs/stable/indexing.html#indexing-view-versus-copy\n",
      "  \n"
     ]
    },
    {
     "data": {
      "text/html": [
       "<div>\n",
       "<style scoped>\n",
       "    .dataframe tbody tr th:only-of-type {\n",
       "        vertical-align: middle;\n",
       "    }\n",
       "\n",
       "    .dataframe tbody tr th {\n",
       "        vertical-align: top;\n",
       "    }\n",
       "\n",
       "    .dataframe thead th {\n",
       "        text-align: right;\n",
       "    }\n",
       "</style>\n",
       "<table border=\"1\" class=\"dataframe\">\n",
       "  <thead>\n",
       "    <tr style=\"text-align: right;\">\n",
       "      <th></th>\n",
       "      <th>type</th>\n",
       "      <th>amount</th>\n",
       "      <th>oldbalanceOrg</th>\n",
       "      <th>newbalanceOrig</th>\n",
       "      <th>oldbalanceDest</th>\n",
       "      <th>newbalanceDest</th>\n",
       "      <th>isFraud</th>\n",
       "      <th>is_merchant</th>\n",
       "      <th>diff_old_newOrg</th>\n",
       "    </tr>\n",
       "  </thead>\n",
       "  <tbody>\n",
       "    <tr>\n",
       "      <th>218</th>\n",
       "      <td>CASH_OUT</td>\n",
       "      <td>472692.51</td>\n",
       "      <td>472692.51</td>\n",
       "      <td>0.0</td>\n",
       "      <td>193065.83</td>\n",
       "      <td>665758.34</td>\n",
       "      <td>1</td>\n",
       "      <td>0</td>\n",
       "      <td>472692.51</td>\n",
       "    </tr>\n",
       "    <tr>\n",
       "      <th>437</th>\n",
       "      <td>TRANSFER</td>\n",
       "      <td>70696.74</td>\n",
       "      <td>70696.74</td>\n",
       "      <td>0.0</td>\n",
       "      <td>0.00</td>\n",
       "      <td>0.00</td>\n",
       "      <td>1</td>\n",
       "      <td>0</td>\n",
       "      <td>70696.74</td>\n",
       "    </tr>\n",
       "    <tr>\n",
       "      <th>820</th>\n",
       "      <td>CASH_OUT</td>\n",
       "      <td>1418198.25</td>\n",
       "      <td>1418198.25</td>\n",
       "      <td>0.0</td>\n",
       "      <td>1488632.50</td>\n",
       "      <td>2906830.75</td>\n",
       "      <td>1</td>\n",
       "      <td>0</td>\n",
       "      <td>1418198.25</td>\n",
       "    </tr>\n",
       "    <tr>\n",
       "      <th>1288</th>\n",
       "      <td>TRANSFER</td>\n",
       "      <td>91637.51</td>\n",
       "      <td>91637.51</td>\n",
       "      <td>0.0</td>\n",
       "      <td>0.00</td>\n",
       "      <td>0.00</td>\n",
       "      <td>1</td>\n",
       "      <td>0</td>\n",
       "      <td>91637.51</td>\n",
       "    </tr>\n",
       "    <tr>\n",
       "      <th>1433</th>\n",
       "      <td>CASH_OUT</td>\n",
       "      <td>455788.55</td>\n",
       "      <td>455788.55</td>\n",
       "      <td>0.0</td>\n",
       "      <td>0.00</td>\n",
       "      <td>455788.55</td>\n",
       "      <td>1</td>\n",
       "      <td>0</td>\n",
       "      <td>455788.55</td>\n",
       "    </tr>\n",
       "  </tbody>\n",
       "</table>\n",
       "</div>"
      ],
      "text/plain": [
       "          type      amount  oldbalanceOrg  newbalanceOrig  oldbalanceDest  \\\n",
       "218   CASH_OUT   472692.51      472692.51             0.0       193065.83   \n",
       "437   TRANSFER    70696.74       70696.74             0.0            0.00   \n",
       "820   CASH_OUT  1418198.25     1418198.25             0.0      1488632.50   \n",
       "1288  TRANSFER    91637.51       91637.51             0.0            0.00   \n",
       "1433  CASH_OUT   455788.55      455788.55             0.0            0.00   \n",
       "\n",
       "      newbalanceDest  isFraud  is_merchant  diff_old_newOrg  \n",
       "218        665758.34        1            0        472692.51  \n",
       "437             0.00        1            0         70696.74  \n",
       "820       2906830.75        1            0       1418198.25  \n",
       "1288            0.00        1            0         91637.51  \n",
       "1433       455788.55        1            0        455788.55  "
      ]
     },
     "execution_count": 19,
     "metadata": {},
     "output_type": "execute_result"
    }
   ],
   "source": [
    "# Find the difference between oldbalanceOrg and newbalanceOrig\n",
    "True_Fraud['diff_old_newOrg'] = (True_Fraud['newbalanceOrig'] - True_Fraud['oldbalanceOrg']).abs()\n",
    "True_Fraud.head()"
   ]
  },
  {
   "cell_type": "code",
   "execution_count": 20,
   "metadata": {},
   "outputs": [
    {
     "name": "stderr",
     "output_type": "stream",
     "text": [
      "/anaconda3/lib/python3.7/site-packages/ipykernel_launcher.py:1: SettingWithCopyWarning: \n",
      "A value is trying to be set on a copy of a slice from a DataFrame.\n",
      "Try using .loc[row_indexer,col_indexer] = value instead\n",
      "\n",
      "See the caveats in the documentation: http://pandas.pydata.org/pandas-docs/stable/indexing.html#indexing-view-versus-copy\n",
      "  \"\"\"Entry point for launching an IPython kernel.\n"
     ]
    },
    {
     "data": {
      "text/html": [
       "<div>\n",
       "<style scoped>\n",
       "    .dataframe tbody tr th:only-of-type {\n",
       "        vertical-align: middle;\n",
       "    }\n",
       "\n",
       "    .dataframe tbody tr th {\n",
       "        vertical-align: top;\n",
       "    }\n",
       "\n",
       "    .dataframe thead th {\n",
       "        text-align: right;\n",
       "    }\n",
       "</style>\n",
       "<table border=\"1\" class=\"dataframe\">\n",
       "  <thead>\n",
       "    <tr style=\"text-align: right;\">\n",
       "      <th></th>\n",
       "      <th>type</th>\n",
       "      <th>amount</th>\n",
       "      <th>oldbalanceOrg</th>\n",
       "      <th>newbalanceOrig</th>\n",
       "      <th>oldbalanceDest</th>\n",
       "      <th>newbalanceDest</th>\n",
       "      <th>isFraud</th>\n",
       "      <th>is_merchant</th>\n",
       "      <th>diff_old_newOrg</th>\n",
       "    </tr>\n",
       "  </thead>\n",
       "  <tbody>\n",
       "    <tr>\n",
       "      <th>0</th>\n",
       "      <td>CASH_IN</td>\n",
       "      <td>23557.12</td>\n",
       "      <td>8059.00</td>\n",
       "      <td>31616.12</td>\n",
       "      <td>169508.66</td>\n",
       "      <td>145951.53</td>\n",
       "      <td>0</td>\n",
       "      <td>0</td>\n",
       "      <td>23557.12</td>\n",
       "    </tr>\n",
       "    <tr>\n",
       "      <th>1</th>\n",
       "      <td>PAYMENT</td>\n",
       "      <td>6236.13</td>\n",
       "      <td>0.00</td>\n",
       "      <td>0.00</td>\n",
       "      <td>0.00</td>\n",
       "      <td>0.00</td>\n",
       "      <td>0</td>\n",
       "      <td>1</td>\n",
       "      <td>0.00</td>\n",
       "    </tr>\n",
       "    <tr>\n",
       "      <th>2</th>\n",
       "      <td>PAYMENT</td>\n",
       "      <td>33981.87</td>\n",
       "      <td>18745.72</td>\n",
       "      <td>0.00</td>\n",
       "      <td>0.00</td>\n",
       "      <td>0.00</td>\n",
       "      <td>0</td>\n",
       "      <td>1</td>\n",
       "      <td>18745.72</td>\n",
       "    </tr>\n",
       "    <tr>\n",
       "      <th>3</th>\n",
       "      <td>CASH_OUT</td>\n",
       "      <td>263006.42</td>\n",
       "      <td>20072.00</td>\n",
       "      <td>0.00</td>\n",
       "      <td>390253.56</td>\n",
       "      <td>653259.98</td>\n",
       "      <td>0</td>\n",
       "      <td>0</td>\n",
       "      <td>20072.00</td>\n",
       "    </tr>\n",
       "    <tr>\n",
       "      <th>4</th>\n",
       "      <td>CASH_OUT</td>\n",
       "      <td>152013.74</td>\n",
       "      <td>20765.00</td>\n",
       "      <td>0.00</td>\n",
       "      <td>252719.19</td>\n",
       "      <td>404732.93</td>\n",
       "      <td>0</td>\n",
       "      <td>0</td>\n",
       "      <td>20765.00</td>\n",
       "    </tr>\n",
       "  </tbody>\n",
       "</table>\n",
       "</div>"
      ],
      "text/plain": [
       "       type     amount  oldbalanceOrg  newbalanceOrig  oldbalanceDest  \\\n",
       "0   CASH_IN   23557.12        8059.00        31616.12       169508.66   \n",
       "1   PAYMENT    6236.13           0.00            0.00            0.00   \n",
       "2   PAYMENT   33981.87       18745.72            0.00            0.00   \n",
       "3  CASH_OUT  263006.42       20072.00            0.00       390253.56   \n",
       "4  CASH_OUT  152013.74       20765.00            0.00       252719.19   \n",
       "\n",
       "   newbalanceDest  isFraud  is_merchant  diff_old_newOrg  \n",
       "0       145951.53        0            0         23557.12  \n",
       "1            0.00        0            1             0.00  \n",
       "2            0.00        0            1         18745.72  \n",
       "3       653259.98        0            0         20072.00  \n",
       "4       404732.93        0            0         20765.00  "
      ]
     },
     "execution_count": 20,
     "metadata": {},
     "output_type": "execute_result"
    }
   ],
   "source": [
    "Non_Fraud['diff_old_newOrg'] = (Non_Fraud['newbalanceOrig'] - Non_Fraud['oldbalanceOrg']).abs()\n",
    "Non_Fraud.head()"
   ]
  },
  {
   "cell_type": "code",
   "execution_count": 21,
   "metadata": {},
   "outputs": [
    {
     "data": {
      "text/plain": [
       "1378861.9153724068"
      ]
     },
     "execution_count": 21,
     "metadata": {},
     "output_type": "execute_result"
    }
   ],
   "source": [
    "#Get the average of difference between old balance original and new balance original\n",
    "mean_of_true_difference = True_Fraud['diff_old_newOrg'].mean()\n",
    "mean_of_true_difference"
   ]
  },
  {
   "cell_type": "code",
   "execution_count": 22,
   "metadata": {},
   "outputs": [
    {
     "data": {
      "text/plain": [
       "51271.048304944896"
      ]
     },
     "execution_count": 22,
     "metadata": {},
     "output_type": "execute_result"
    }
   ],
   "source": [
    "mean_of_non_difference = Non_Fraud['diff_old_newOrg'].mean()\n",
    "mean_of_non_difference"
   ]
  },
  {
   "cell_type": "code",
   "execution_count": 23,
   "metadata": {},
   "outputs": [
    {
     "data": {
      "text/plain": [
       "[0, 3, -200000, 200000]"
      ]
     },
     "execution_count": 23,
     "metadata": {},
     "output_type": "execute_result"
    },
    {
     "data": {
      "image/png": "[encoded data removed]",
      "text/plain": [
       "<Figure size 432x288 with 1 Axes>"
      ]
     },
     "metadata": {
      "needs_background": "light"
     },
     "output_type": "display_data"
    }
   ],
   "source": [
    "# Graph and make it visualize \n",
    "fig, ax = plt.subplots()\n",
    "\n",
    "\n",
    "ax.bar(1,mean_of_non_difference,width = 0.8, align='center', color = 'Blue')\n",
    "ax.bar(2,mean_of_true_difference, width = 0.8, align = 'center', color = 'Red')\n",
    "\n",
    "plt.axis([0, 3, -200000, 200000])"
   ]
  },
  {
   "cell_type": "markdown",
   "metadata": {},
   "source": [
    "#### Analysis 3 conclusion: The difference between the account balance before and after of the non-fraudulent transaction is not large and is mostly positive. And the fraudulent transaction in the transfer or cash_out, the difference of before and after account balance is usually large with negative number."
   ]
  },
  {
   "cell_type": "markdown",
   "metadata": {},
   "source": [
    "### Analysis #4: In the dataset, the “amount” column represents the money amount of the specific transaction while the “oldbalanceOrg” column means the original balance of the remitters. Is there any relationship between these 2 factors and the fraud determination, especially when the amount of these 2 factors are the same? "
   ]
  },
  {
   "cell_type": "markdown",
   "metadata": {},
   "source": [
    "this is not part of the main analysis A small analysis where the summary states that isflaggedfraud is marked if the transaction is above 200000 but we can clearly see thats not always true."
   ]
  },
  {
   "cell_type": "markdown",
   "metadata": {},
   "source": [
    "paysimTransfer = paysim.loc[paysim.type == 'TRANSFER']\n",
    "paysimTransfer.loc[paysimTransfer.isFlaggedFraud == 0].amount.max()"
   ]
  },
  {
   "cell_type": "markdown",
   "metadata": {},
   "source": [
    "same as above this is not part of the main analysis .Another small analysis wherein the receiver who is marked fraud has had two transactions."
   ]
  },
  {
   "cell_type": "code",
   "execution_count": 24,
   "metadata": {},
   "outputs": [
    {
     "ename": "KeyError",
     "evalue": "'nameDest'",
     "output_type": "error",
     "traceback": [
      "\u001b[0;31m---------------------------------------------------------------------------\u001b[0m",
      "\u001b[0;31mKeyError\u001b[0m                                  Traceback (most recent call last)",
      "\u001b[0;32m<ipython-input-24-b02a9d7fe3f4>\u001b[0m in \u001b[0;36m<module>\u001b[0;34m\u001b[0m\n\u001b[1;32m      1\u001b[0m \u001b[0ma\u001b[0m\u001b[0;34m=\u001b[0m\u001b[0mpaysim\u001b[0m\u001b[0;34m[\u001b[0m\u001b[0mpaysim\u001b[0m\u001b[0;34m[\u001b[0m\u001b[0;34m'isFraud'\u001b[0m\u001b[0;34m]\u001b[0m\u001b[0;34m==\u001b[0m\u001b[0;36m1\u001b[0m\u001b[0;34m]\u001b[0m\u001b[0;34m\u001b[0m\u001b[0;34m\u001b[0m\u001b[0m\n\u001b[0;32m----> 2\u001b[0;31m \u001b[0mdups\u001b[0m\u001b[0;34m=\u001b[0m \u001b[0ma\u001b[0m\u001b[0;34m.\u001b[0m\u001b[0mpivot_table\u001b[0m\u001b[0;34m(\u001b[0m\u001b[0mindex\u001b[0m\u001b[0;34m=\u001b[0m\u001b[0;34m[\u001b[0m\u001b[0;34m'nameDest'\u001b[0m\u001b[0;34m]\u001b[0m\u001b[0;34m,\u001b[0m \u001b[0maggfunc\u001b[0m\u001b[0;34m=\u001b[0m\u001b[0;34m'size'\u001b[0m\u001b[0;34m)\u001b[0m\u001b[0;34m\u001b[0m\u001b[0;34m\u001b[0m\u001b[0m\n\u001b[0m\u001b[1;32m      3\u001b[0m \u001b[0mprint\u001b[0m\u001b[0;34m(\u001b[0m\u001b[0mdups\u001b[0m\u001b[0;34m[\u001b[0m\u001b[0mdups\u001b[0m\u001b[0;34m>\u001b[0m\u001b[0;36m1\u001b[0m\u001b[0;34m]\u001b[0m\u001b[0;34m)\u001b[0m\u001b[0;34m\u001b[0m\u001b[0;34m\u001b[0m\u001b[0m\n",
      "\u001b[0;32m/anaconda3/lib/python3.7/site-packages/pandas/core/frame.py\u001b[0m in \u001b[0;36mpivot_table\u001b[0;34m(self, values, index, columns, aggfunc, fill_value, margins, dropna, margins_name)\u001b[0m\n\u001b[1;32m   5301\u001b[0m                            \u001b[0maggfunc\u001b[0m\u001b[0;34m=\u001b[0m\u001b[0maggfunc\u001b[0m\u001b[0;34m,\u001b[0m \u001b[0mfill_value\u001b[0m\u001b[0;34m=\u001b[0m\u001b[0mfill_value\u001b[0m\u001b[0;34m,\u001b[0m\u001b[0;34m\u001b[0m\u001b[0;34m\u001b[0m\u001b[0m\n\u001b[1;32m   5302\u001b[0m                            \u001b[0mmargins\u001b[0m\u001b[0;34m=\u001b[0m\u001b[0mmargins\u001b[0m\u001b[0;34m,\u001b[0m \u001b[0mdropna\u001b[0m\u001b[0;34m=\u001b[0m\u001b[0mdropna\u001b[0m\u001b[0;34m,\u001b[0m\u001b[0;34m\u001b[0m\u001b[0;34m\u001b[0m\u001b[0m\n\u001b[0;32m-> 5303\u001b[0;31m                            margins_name=margins_name)\n\u001b[0m\u001b[1;32m   5304\u001b[0m \u001b[0;34m\u001b[0m\u001b[0m\n\u001b[1;32m   5305\u001b[0m     \u001b[0;32mdef\u001b[0m \u001b[0mstack\u001b[0m\u001b[0;34m(\u001b[0m\u001b[0mself\u001b[0m\u001b[0;34m,\u001b[0m \u001b[0mlevel\u001b[0m\u001b[0;34m=\u001b[0m\u001b[0;34m-\u001b[0m\u001b[0;36m1\u001b[0m\u001b[0;34m,\u001b[0m \u001b[0mdropna\u001b[0m\u001b[0;34m=\u001b[0m\u001b[0;32mTrue\u001b[0m\u001b[0;34m)\u001b[0m\u001b[0;34m:\u001b[0m\u001b[0;34m\u001b[0m\u001b[0;34m\u001b[0m\u001b[0m\n",
      "\u001b[0;32m/anaconda3/lib/python3.7/site-packages/pandas/core/reshape/pivot.py\u001b[0m in \u001b[0;36mpivot_table\u001b[0;34m(data, values, index, columns, aggfunc, fill_value, margins, dropna, margins_name)\u001b[0m\n\u001b[1;32m     84\u001b[0m     \u001b[0;31m# group by the cartesian product of the grouper\u001b[0m\u001b[0;34m\u001b[0m\u001b[0;34m\u001b[0m\u001b[0;34m\u001b[0m\u001b[0m\n\u001b[1;32m     85\u001b[0m     \u001b[0;31m# if we have a categorical\u001b[0m\u001b[0;34m\u001b[0m\u001b[0;34m\u001b[0m\u001b[0;34m\u001b[0m\u001b[0m\n\u001b[0;32m---> 86\u001b[0;31m     \u001b[0mgrouped\u001b[0m \u001b[0;34m=\u001b[0m \u001b[0mdata\u001b[0m\u001b[0;34m.\u001b[0m\u001b[0mgroupby\u001b[0m\u001b[0;34m(\u001b[0m\u001b[0mkeys\u001b[0m\u001b[0;34m,\u001b[0m \u001b[0mobserved\u001b[0m\u001b[0;34m=\u001b[0m\u001b[0;32mFalse\u001b[0m\u001b[0;34m)\u001b[0m\u001b[0;34m\u001b[0m\u001b[0;34m\u001b[0m\u001b[0m\n\u001b[0m\u001b[1;32m     87\u001b[0m     \u001b[0magged\u001b[0m \u001b[0;34m=\u001b[0m \u001b[0mgrouped\u001b[0m\u001b[0;34m.\u001b[0m\u001b[0magg\u001b[0m\u001b[0;34m(\u001b[0m\u001b[0maggfunc\u001b[0m\u001b[0;34m)\u001b[0m\u001b[0;34m\u001b[0m\u001b[0;34m\u001b[0m\u001b[0m\n\u001b[1;32m     88\u001b[0m     \u001b[0;32mif\u001b[0m \u001b[0mdropna\u001b[0m \u001b[0;32mand\u001b[0m \u001b[0misinstance\u001b[0m\u001b[0;34m(\u001b[0m\u001b[0magged\u001b[0m\u001b[0;34m,\u001b[0m \u001b[0mABCDataFrame\u001b[0m\u001b[0;34m)\u001b[0m \u001b[0;32mand\u001b[0m \u001b[0mlen\u001b[0m\u001b[0;34m(\u001b[0m\u001b[0magged\u001b[0m\u001b[0;34m.\u001b[0m\u001b[0mcolumns\u001b[0m\u001b[0;34m)\u001b[0m\u001b[0;34m:\u001b[0m\u001b[0;34m\u001b[0m\u001b[0;34m\u001b[0m\u001b[0m\n",
      "\u001b[0;32m/anaconda3/lib/python3.7/site-packages/pandas/core/generic.py\u001b[0m in \u001b[0;36mgroupby\u001b[0;34m(self, by, axis, level, as_index, sort, group_keys, squeeze, observed, **kwargs)\u001b[0m\n\u001b[1;32m   6663\u001b[0m         return groupby(self, by=by, axis=axis, level=level, as_index=as_index,\n\u001b[1;32m   6664\u001b[0m                        \u001b[0msort\u001b[0m\u001b[0;34m=\u001b[0m\u001b[0msort\u001b[0m\u001b[0;34m,\u001b[0m \u001b[0mgroup_keys\u001b[0m\u001b[0;34m=\u001b[0m\u001b[0mgroup_keys\u001b[0m\u001b[0;34m,\u001b[0m \u001b[0msqueeze\u001b[0m\u001b[0;34m=\u001b[0m\u001b[0msqueeze\u001b[0m\u001b[0;34m,\u001b[0m\u001b[0;34m\u001b[0m\u001b[0;34m\u001b[0m\u001b[0m\n\u001b[0;32m-> 6665\u001b[0;31m                        observed=observed, **kwargs)\n\u001b[0m\u001b[1;32m   6666\u001b[0m \u001b[0;34m\u001b[0m\u001b[0m\n\u001b[1;32m   6667\u001b[0m     def asfreq(self, freq, method=None, how=None, normalize=False,\n",
      "\u001b[0;32m/anaconda3/lib/python3.7/site-packages/pandas/core/groupby/groupby.py\u001b[0m in \u001b[0;36mgroupby\u001b[0;34m(obj, by, **kwds)\u001b[0m\n\u001b[1;32m   2150\u001b[0m         \u001b[0;32mraise\u001b[0m \u001b[0mTypeError\u001b[0m\u001b[0;34m(\u001b[0m\u001b[0;34m'invalid type: %s'\u001b[0m \u001b[0;34m%\u001b[0m \u001b[0mtype\u001b[0m\u001b[0;34m(\u001b[0m\u001b[0mobj\u001b[0m\u001b[0;34m)\u001b[0m\u001b[0;34m)\u001b[0m\u001b[0;34m\u001b[0m\u001b[0;34m\u001b[0m\u001b[0m\n\u001b[1;32m   2151\u001b[0m \u001b[0;34m\u001b[0m\u001b[0m\n\u001b[0;32m-> 2152\u001b[0;31m     \u001b[0;32mreturn\u001b[0m \u001b[0mklass\u001b[0m\u001b[0;34m(\u001b[0m\u001b[0mobj\u001b[0m\u001b[0;34m,\u001b[0m \u001b[0mby\u001b[0m\u001b[0;34m,\u001b[0m \u001b[0;34m**\u001b[0m\u001b[0mkwds\u001b[0m\u001b[0;34m)\u001b[0m\u001b[0;34m\u001b[0m\u001b[0;34m\u001b[0m\u001b[0m\n\u001b[0m\u001b[1;32m   2153\u001b[0m \u001b[0;34m\u001b[0m\u001b[0m\n\u001b[1;32m   2154\u001b[0m \u001b[0;34m\u001b[0m\u001b[0m\n",
      "\u001b[0;32m/anaconda3/lib/python3.7/site-packages/pandas/core/groupby/groupby.py\u001b[0m in \u001b[0;36m__init__\u001b[0;34m(self, obj, keys, axis, level, grouper, exclusions, selection, as_index, sort, group_keys, squeeze, observed, **kwargs)\u001b[0m\n\u001b[1;32m    597\u001b[0m                                                     \u001b[0msort\u001b[0m\u001b[0;34m=\u001b[0m\u001b[0msort\u001b[0m\u001b[0;34m,\u001b[0m\u001b[0;34m\u001b[0m\u001b[0;34m\u001b[0m\u001b[0m\n\u001b[1;32m    598\u001b[0m                                                     \u001b[0mobserved\u001b[0m\u001b[0;34m=\u001b[0m\u001b[0mobserved\u001b[0m\u001b[0;34m,\u001b[0m\u001b[0;34m\u001b[0m\u001b[0;34m\u001b[0m\u001b[0m\n\u001b[0;32m--> 599\u001b[0;31m                                                     mutated=self.mutated)\n\u001b[0m\u001b[1;32m    600\u001b[0m \u001b[0;34m\u001b[0m\u001b[0m\n\u001b[1;32m    601\u001b[0m         \u001b[0mself\u001b[0m\u001b[0;34m.\u001b[0m\u001b[0mobj\u001b[0m \u001b[0;34m=\u001b[0m \u001b[0mobj\u001b[0m\u001b[0;34m\u001b[0m\u001b[0;34m\u001b[0m\u001b[0m\n",
      "\u001b[0;32m/anaconda3/lib/python3.7/site-packages/pandas/core/groupby/groupby.py\u001b[0m in \u001b[0;36m_get_grouper\u001b[0;34m(obj, key, axis, level, sort, observed, mutated, validate)\u001b[0m\n\u001b[1;32m   3289\u001b[0m                 \u001b[0min_axis\u001b[0m\u001b[0;34m,\u001b[0m \u001b[0mname\u001b[0m\u001b[0;34m,\u001b[0m \u001b[0mlevel\u001b[0m\u001b[0;34m,\u001b[0m \u001b[0mgpr\u001b[0m \u001b[0;34m=\u001b[0m \u001b[0;32mFalse\u001b[0m\u001b[0;34m,\u001b[0m \u001b[0;32mNone\u001b[0m\u001b[0;34m,\u001b[0m \u001b[0mgpr\u001b[0m\u001b[0;34m,\u001b[0m \u001b[0;32mNone\u001b[0m\u001b[0;34m\u001b[0m\u001b[0;34m\u001b[0m\u001b[0m\n\u001b[1;32m   3290\u001b[0m             \u001b[0;32melse\u001b[0m\u001b[0;34m:\u001b[0m\u001b[0;34m\u001b[0m\u001b[0;34m\u001b[0m\u001b[0m\n\u001b[0;32m-> 3291\u001b[0;31m                 \u001b[0;32mraise\u001b[0m \u001b[0mKeyError\u001b[0m\u001b[0;34m(\u001b[0m\u001b[0mgpr\u001b[0m\u001b[0;34m)\u001b[0m\u001b[0;34m\u001b[0m\u001b[0;34m\u001b[0m\u001b[0m\n\u001b[0m\u001b[1;32m   3292\u001b[0m         \u001b[0;32melif\u001b[0m \u001b[0misinstance\u001b[0m\u001b[0;34m(\u001b[0m\u001b[0mgpr\u001b[0m\u001b[0;34m,\u001b[0m \u001b[0mGrouper\u001b[0m\u001b[0;34m)\u001b[0m \u001b[0;32mand\u001b[0m \u001b[0mgpr\u001b[0m\u001b[0;34m.\u001b[0m\u001b[0mkey\u001b[0m \u001b[0;32mis\u001b[0m \u001b[0;32mnot\u001b[0m \u001b[0;32mNone\u001b[0m\u001b[0;34m:\u001b[0m\u001b[0;34m\u001b[0m\u001b[0;34m\u001b[0m\u001b[0m\n\u001b[1;32m   3293\u001b[0m             \u001b[0;31m# Add key to exclusions\u001b[0m\u001b[0;34m\u001b[0m\u001b[0;34m\u001b[0m\u001b[0;34m\u001b[0m\u001b[0m\n",
      "\u001b[0;31mKeyError\u001b[0m: 'nameDest'"
     ]
    }
   ],
   "source": [
    "a=paysim[paysim['isFraud']==1]\n",
    "dups= a.pivot_table(index=['nameDest'], aggfunc='size')\n",
    "print(dups[dups>1])"
   ]
  },
  {
   "cell_type": "markdown",
   "metadata": {},
   "source": [
    "STEP 1: We check for those transactions where the difference of old balance and amount is not equal to the new balance."
   ]
  },
  {
   "cell_type": "code",
   "execution_count": 25,
   "metadata": {},
   "outputs": [
    {
     "data": {
      "text/html": [
       "<div>\n",
       "<style scoped>\n",
       "    .dataframe tbody tr th:only-of-type {\n",
       "        vertical-align: middle;\n",
       "    }\n",
       "\n",
       "    .dataframe tbody tr th {\n",
       "        vertical-align: top;\n",
       "    }\n",
       "\n",
       "    .dataframe thead th {\n",
       "        text-align: right;\n",
       "    }\n",
       "</style>\n",
       "<table border=\"1\" class=\"dataframe\">\n",
       "  <thead>\n",
       "    <tr style=\"text-align: right;\">\n",
       "      <th></th>\n",
       "      <th>type</th>\n",
       "      <th>amount</th>\n",
       "      <th>oldbalanceOrg</th>\n",
       "      <th>newbalanceOrig</th>\n",
       "      <th>oldbalanceDest</th>\n",
       "      <th>newbalanceDest</th>\n",
       "      <th>isFraud</th>\n",
       "      <th>is_merchant</th>\n",
       "      <th>wrongbal</th>\n",
       "    </tr>\n",
       "  </thead>\n",
       "  <tbody>\n",
       "    <tr>\n",
       "      <th>0</th>\n",
       "      <td>CASH_IN</td>\n",
       "      <td>23557.12</td>\n",
       "      <td>8059.00</td>\n",
       "      <td>31616.12</td>\n",
       "      <td>169508.66</td>\n",
       "      <td>145951.53</td>\n",
       "      <td>0</td>\n",
       "      <td>0</td>\n",
       "      <td>True</td>\n",
       "    </tr>\n",
       "    <tr>\n",
       "      <th>1</th>\n",
       "      <td>PAYMENT</td>\n",
       "      <td>6236.13</td>\n",
       "      <td>0.00</td>\n",
       "      <td>0.00</td>\n",
       "      <td>0.00</td>\n",
       "      <td>0.00</td>\n",
       "      <td>0</td>\n",
       "      <td>1</td>\n",
       "      <td>True</td>\n",
       "    </tr>\n",
       "    <tr>\n",
       "      <th>2</th>\n",
       "      <td>PAYMENT</td>\n",
       "      <td>33981.87</td>\n",
       "      <td>18745.72</td>\n",
       "      <td>0.00</td>\n",
       "      <td>0.00</td>\n",
       "      <td>0.00</td>\n",
       "      <td>0</td>\n",
       "      <td>1</td>\n",
       "      <td>True</td>\n",
       "    </tr>\n",
       "    <tr>\n",
       "      <th>3</th>\n",
       "      <td>CASH_OUT</td>\n",
       "      <td>263006.42</td>\n",
       "      <td>20072.00</td>\n",
       "      <td>0.00</td>\n",
       "      <td>390253.56</td>\n",
       "      <td>653259.98</td>\n",
       "      <td>0</td>\n",
       "      <td>0</td>\n",
       "      <td>True</td>\n",
       "    </tr>\n",
       "    <tr>\n",
       "      <th>4</th>\n",
       "      <td>CASH_OUT</td>\n",
       "      <td>152013.74</td>\n",
       "      <td>20765.00</td>\n",
       "      <td>0.00</td>\n",
       "      <td>252719.19</td>\n",
       "      <td>404732.93</td>\n",
       "      <td>0</td>\n",
       "      <td>0</td>\n",
       "      <td>True</td>\n",
       "    </tr>\n",
       "  </tbody>\n",
       "</table>\n",
       "</div>"
      ],
      "text/plain": [
       "       type     amount  oldbalanceOrg  newbalanceOrig  oldbalanceDest  \\\n",
       "0   CASH_IN   23557.12        8059.00        31616.12       169508.66   \n",
       "1   PAYMENT    6236.13           0.00            0.00            0.00   \n",
       "2   PAYMENT   33981.87       18745.72            0.00            0.00   \n",
       "3  CASH_OUT  263006.42       20072.00            0.00       390253.56   \n",
       "4  CASH_OUT  152013.74       20765.00            0.00       252719.19   \n",
       "\n",
       "   newbalanceDest  isFraud  is_merchant  wrongbal  \n",
       "0       145951.53        0            0      True  \n",
       "1            0.00        0            1      True  \n",
       "2            0.00        0            1      True  \n",
       "3       653259.98        0            0      True  \n",
       "4       404732.93        0            0      True  "
      ]
     },
     "execution_count": 25,
     "metadata": {},
     "output_type": "execute_result"
    }
   ],
   "source": [
    "paysim['wrongbal'] = paysim[\"oldbalanceOrg\"] - paysim[\"amount\"] != paysim[\"newbalanceOrig\"]\n",
    "paysim.head()"
   ]
  },
  {
   "cell_type": "markdown",
   "metadata": {},
   "source": [
    "STEP 2: Checking the mean and maximum error for the senders balance "
   ]
  },
  {
   "cell_type": "code",
   "execution_count": 26,
   "metadata": {},
   "outputs": [
    {
     "name": "stdout",
     "output_type": "stream",
     "text": [
      "fraudulent transactions: \n",
      " count    8.190000e+02\n",
      "mean     8.431139e+02\n",
      "std      1.887102e+04\n",
      "min     -1.862645e-09\n",
      "25%      0.000000e+00\n",
      "50%      0.000000e+00\n",
      "75%      0.000000e+00\n",
      "max      5.087822e+05\n",
      "Name: errorBalanceOrg, dtype: float64\n",
      "\n",
      " valid transactions: \n",
      " count    6.354430e+05\n",
      "mean     2.013017e+05\n",
      "std      5.949441e+05\n",
      "min     -1.000000e-02\n",
      "25%      3.107980e+03\n",
      "50%      6.973860e+04\n",
      "75%      2.509289e+05\n",
      "max      6.750076e+07\n",
      "Name: errorBalanceOrg, dtype: float64\n"
     ]
    }
   ],
   "source": [
    "paysim[\"errorBalanceOrg\"] = paysim.newbalanceOrig + paysim.amount - paysim.oldbalanceOrg\n",
    "paysim[\"errorBalanceDest\"] = paysim.oldbalanceDest + paysim.amount - paysim.newbalanceDest\n",
    "\n",
    "fraud = paysim[paysim[\"isFraud\"] == 1]\n",
    "valid = paysim[paysim[\"isFraud\"] == 0]\n",
    "print(\"fraudulent transactions: \\n\",fraud[\"errorBalanceOrg\"].describe())\n",
    "print(\"\\n valid transactions: \\n\",valid[\"errorBalanceOrg\"].describe())"
   ]
  },
  {
   "cell_type": "markdown",
   "metadata": {},
   "source": [
    "we check the mean,maximum and minimum errors for the receivers balance too."
   ]
  },
  {
   "cell_type": "code",
   "execution_count": 27,
   "metadata": {},
   "outputs": [
    {
     "name": "stdout",
     "output_type": "stream",
     "text": [
      "Summary statistics of errorBalanceDest for fraudulent transactions: \n",
      " count    8.190000e+02\n",
      "mean     6.435922e+05\n",
      "std      1.676194e+06\n",
      "min     -6.603624e+05\n",
      "25%      0.000000e+00\n",
      "50%      1.000000e-02\n",
      "75%      4.218270e+05\n",
      "max      1.000000e+07\n",
      "Name: errorBalanceDest, dtype: float64\n",
      "\n",
      " Summary statistics of errorBalanceDest for valid transactions: \n",
      " count    6.354430e+05\n",
      "mean     5.471483e+04\n",
      "std      4.434844e+05\n",
      "min     -7.588573e+07\n",
      "25%      0.000000e+00\n",
      "50%      3.516640e+03\n",
      "75%      2.944268e+04\n",
      "max      8.247637e+06\n",
      "Name: errorBalanceDest, dtype: float64\n"
     ]
    }
   ],
   "source": [
    "print(\"Summary statistics of errorBalanceDest for fraudulent transactions: \\n\",fraud[\"errorBalanceDest\"].describe())\n",
    "print(\"\\n Summary statistics of errorBalanceDest for valid transactions: \\n\",valid[\"errorBalanceDest\"].describe())"
   ]
  },
  {
   "cell_type": "markdown",
   "metadata": {},
   "source": [
    "STEP 3: As the values are large we plot them on the graph for better analysis"
   ]
  },
  {
   "cell_type": "code",
   "execution_count": 28,
   "metadata": {},
   "outputs": [
    {
     "data": {
      "image/png": "[encoded data removed]",
      "text/plain": [
       "<Figure size 432x288 with 1 Axes>"
      ]
     },
     "metadata": {
      "needs_background": "light"
     },
     "output_type": "display_data"
    }
   ],
   "source": [
    "errors = [\"errorBalanceOrg\", \"errorBalanceDest\"]\n",
    "count, ax = plt.subplots()\n",
    "ax = sns.scatterplot (x = 'errorBalanceOrg',y='errorBalanceDest', data = fraud)\n",
    "plt.title(\"errorBalanceOrg vs errorBalanceDestFRAUD\")\n",
    "plt.show()"
   ]
  },
  {
   "cell_type": "code",
   "execution_count": 29,
   "metadata": {},
   "outputs": [
    {
     "data": {
      "image/png": "[encoded data removed]",
      "text/plain": [
       "<Figure size 432x288 with 1 Axes>"
      ]
     },
     "metadata": {
      "needs_background": "light"
     },
     "output_type": "display_data"
    }
   ],
   "source": [
    "count, ax = plt.subplots()\n",
    "ax = sns.scatterplot (x = 'errorBalanceOrg',y='errorBalanceDest', data = valid)\n",
    "plt.title(\"errorBalanceOrg vs errorBalanceDest for VALID\")\n",
    "plt.show()"
   ]
  },
  {
   "cell_type": "markdown",
   "metadata": {},
   "source": [
    "Conclusion: we can clearly see that the error balance for valid transactions lies below zero,whereas the error balance for fradulent transactions lies above zero.Thus the errorBalanceOrig and errorBalanceDest variables play a crucial role in Fraud Detection."
   ]
  },
  {
   "cell_type": "markdown",
   "metadata": {},
   "source": [
    "### Mia--Analysis #5: Is there any relationship between the amount and oldbalanceOrg concerning about the fraud?"
   ]
  },
  {
   "cell_type": "code",
   "execution_count": 30,
   "metadata": {},
   "outputs": [
    {
     "data": {
      "text/html": [
       "<div>\n",
       "<style scoped>\n",
       "    .dataframe tbody tr th:only-of-type {\n",
       "        vertical-align: middle;\n",
       "    }\n",
       "\n",
       "    .dataframe tbody tr th {\n",
       "        vertical-align: top;\n",
       "    }\n",
       "\n",
       "    .dataframe thead th {\n",
       "        text-align: right;\n",
       "    }\n",
       "</style>\n",
       "<table border=\"1\" class=\"dataframe\">\n",
       "  <thead>\n",
       "    <tr style=\"text-align: right;\">\n",
       "      <th></th>\n",
       "      <th>type</th>\n",
       "      <th>amount</th>\n",
       "      <th>oldbalanceOrg</th>\n",
       "      <th>newbalanceOrig</th>\n",
       "      <th>oldbalanceDest</th>\n",
       "      <th>newbalanceDest</th>\n",
       "      <th>isFraud</th>\n",
       "      <th>is_merchant</th>\n",
       "      <th>wrongbal</th>\n",
       "      <th>errorBalanceOrg</th>\n",
       "      <th>errorBalanceDest</th>\n",
       "      <th>oldbalanceOrgEqlAmt</th>\n",
       "    </tr>\n",
       "  </thead>\n",
       "  <tbody>\n",
       "    <tr>\n",
       "      <th>0</th>\n",
       "      <td>CASH_IN</td>\n",
       "      <td>23557.12</td>\n",
       "      <td>8059.00</td>\n",
       "      <td>31616.12</td>\n",
       "      <td>169508.66</td>\n",
       "      <td>145951.53</td>\n",
       "      <td>0</td>\n",
       "      <td>0</td>\n",
       "      <td>True</td>\n",
       "      <td>47114.24</td>\n",
       "      <td>47114.25</td>\n",
       "      <td>False</td>\n",
       "    </tr>\n",
       "    <tr>\n",
       "      <th>1</th>\n",
       "      <td>PAYMENT</td>\n",
       "      <td>6236.13</td>\n",
       "      <td>0.00</td>\n",
       "      <td>0.00</td>\n",
       "      <td>0.00</td>\n",
       "      <td>0.00</td>\n",
       "      <td>0</td>\n",
       "      <td>1</td>\n",
       "      <td>True</td>\n",
       "      <td>6236.13</td>\n",
       "      <td>6236.13</td>\n",
       "      <td>False</td>\n",
       "    </tr>\n",
       "    <tr>\n",
       "      <th>2</th>\n",
       "      <td>PAYMENT</td>\n",
       "      <td>33981.87</td>\n",
       "      <td>18745.72</td>\n",
       "      <td>0.00</td>\n",
       "      <td>0.00</td>\n",
       "      <td>0.00</td>\n",
       "      <td>0</td>\n",
       "      <td>1</td>\n",
       "      <td>True</td>\n",
       "      <td>15236.15</td>\n",
       "      <td>33981.87</td>\n",
       "      <td>False</td>\n",
       "    </tr>\n",
       "    <tr>\n",
       "      <th>3</th>\n",
       "      <td>CASH_OUT</td>\n",
       "      <td>263006.42</td>\n",
       "      <td>20072.00</td>\n",
       "      <td>0.00</td>\n",
       "      <td>390253.56</td>\n",
       "      <td>653259.98</td>\n",
       "      <td>0</td>\n",
       "      <td>0</td>\n",
       "      <td>True</td>\n",
       "      <td>242934.42</td>\n",
       "      <td>0.00</td>\n",
       "      <td>False</td>\n",
       "    </tr>\n",
       "    <tr>\n",
       "      <th>4</th>\n",
       "      <td>CASH_OUT</td>\n",
       "      <td>152013.74</td>\n",
       "      <td>20765.00</td>\n",
       "      <td>0.00</td>\n",
       "      <td>252719.19</td>\n",
       "      <td>404732.93</td>\n",
       "      <td>0</td>\n",
       "      <td>0</td>\n",
       "      <td>True</td>\n",
       "      <td>131248.74</td>\n",
       "      <td>0.00</td>\n",
       "      <td>False</td>\n",
       "    </tr>\n",
       "  </tbody>\n",
       "</table>\n",
       "</div>"
      ],
      "text/plain": [
       "       type     amount  oldbalanceOrg  newbalanceOrig  oldbalanceDest  \\\n",
       "0   CASH_IN   23557.12        8059.00        31616.12       169508.66   \n",
       "1   PAYMENT    6236.13           0.00            0.00            0.00   \n",
       "2   PAYMENT   33981.87       18745.72            0.00            0.00   \n",
       "3  CASH_OUT  263006.42       20072.00            0.00       390253.56   \n",
       "4  CASH_OUT  152013.74       20765.00            0.00       252719.19   \n",
       "\n",
       "   newbalanceDest  isFraud  is_merchant  wrongbal  errorBalanceOrg  \\\n",
       "0       145951.53        0            0      True         47114.24   \n",
       "1            0.00        0            1      True          6236.13   \n",
       "2            0.00        0            1      True         15236.15   \n",
       "3       653259.98        0            0      True        242934.42   \n",
       "4       404732.93        0            0      True        131248.74   \n",
       "\n",
       "   errorBalanceDest  oldbalanceOrgEqlAmt  \n",
       "0          47114.25                False  \n",
       "1           6236.13                False  \n",
       "2          33981.87                False  \n",
       "3              0.00                False  \n",
       "4              0.00                False  "
      ]
     },
     "execution_count": 30,
     "metadata": {},
     "output_type": "execute_result"
    }
   ],
   "source": [
    "paysim['oldbalanceOrgEqlAmt']=paysim['oldbalanceOrg'] == paysim ['amount']\n",
    "paysim.head()"
   ]
  },
  {
   "cell_type": "code",
   "execution_count": 31,
   "metadata": {},
   "outputs": [
    {
     "data": {
      "text/html": [
       "<div>\n",
       "<style scoped>\n",
       "    .dataframe tbody tr th:only-of-type {\n",
       "        vertical-align: middle;\n",
       "    }\n",
       "\n",
       "    .dataframe tbody tr th {\n",
       "        vertical-align: top;\n",
       "    }\n",
       "\n",
       "    .dataframe thead th {\n",
       "        text-align: right;\n",
       "    }\n",
       "</style>\n",
       "<table border=\"1\" class=\"dataframe\">\n",
       "  <thead>\n",
       "    <tr style=\"text-align: right;\">\n",
       "      <th></th>\n",
       "      <th>oldbalanceOrgEqlAmt</th>\n",
       "    </tr>\n",
       "  </thead>\n",
       "  <tbody>\n",
       "    <tr>\n",
       "      <th>False</th>\n",
       "      <td>635457</td>\n",
       "    </tr>\n",
       "    <tr>\n",
       "      <th>True</th>\n",
       "      <td>805</td>\n",
       "    </tr>\n",
       "  </tbody>\n",
       "</table>\n",
       "</div>"
      ],
      "text/plain": [
       "       oldbalanceOrgEqlAmt\n",
       "False               635457\n",
       "True                   805"
      ]
     },
     "execution_count": 31,
     "metadata": {},
     "output_type": "execute_result"
    }
   ],
   "source": [
    "oldbOrg_amt=pd.DataFrame(paysim['oldbalanceOrgEqlAmt'].value_counts())\n",
    "oldbOrg_amt"
   ]
  },
  {
   "cell_type": "code",
   "execution_count": 32,
   "metadata": {},
   "outputs": [
    {
     "data": {
      "text/plain": [
       "819"
      ]
     },
     "execution_count": 32,
     "metadata": {},
     "output_type": "execute_result"
    }
   ],
   "source": [
    "isFraud=pd.DataFrame(paysim[paysim['isFraud']==1])\n",
    "isFraud.count()[9]"
   ]
  },
  {
   "cell_type": "code",
   "execution_count": 33,
   "metadata": {},
   "outputs": [
    {
     "data": {
      "text/plain": [
       "805"
      ]
     },
     "execution_count": 33,
     "metadata": {},
     "output_type": "execute_result"
    }
   ],
   "source": [
    "oldbOrg_amt_isFraud=isFraud[isFraud['oldbalanceOrgEqlAmt']==True]\n",
    "oldbOrg_amt_isFraud.count()[-1]"
   ]
  },
  {
   "cell_type": "code",
   "execution_count": 34,
   "metadata": {},
   "outputs": [],
   "source": [
    "from sklearn.model_selection import train_test_split\n",
    "from sklearn.model_selection import cross_val_score\n",
    "from patsy import dmatrices\n",
    "from sklearn.linear_model import LinearRegression"
   ]
  },
  {
   "cell_type": "code",
   "execution_count": 35,
   "metadata": {},
   "outputs": [
    {
     "data": {
      "image/png": "[encoded data removed]",
      "text/plain": [
       "<Figure size 432x288 with 1 Axes>"
      ]
     },
     "metadata": {},
     "output_type": "display_data"
    }
   ],
   "source": [
    "labels = 'isnotFraud', 'isFraud'\n",
    "sizes = [14,805] \n",
    "explode = (0, 0) \n",
    "\n",
    "fig1, ax1 = plt.subplots()\n",
    "ax1.pie(sizes, explode=explode, labels=labels, autopct='%1.1f%%',\n",
    "        shadow=True, startangle=90)\n",
    "ax1.axis('equal')\n",
    "\n",
    "plt.show()"
   ]
  },
  {
   "cell_type": "markdown",
   "metadata": {},
   "source": [
    "### Conclusion Analysis : Can fraud be predicted using logistic regression?"
   ]
  },
  {
   "cell_type": "code",
   "execution_count": 36,
   "metadata": {},
   "outputs": [
    {
     "data": {
      "text/html": [
       "<div>\n",
       "<style scoped>\n",
       "    .dataframe tbody tr th:only-of-type {\n",
       "        vertical-align: middle;\n",
       "    }\n",
       "\n",
       "    .dataframe tbody tr th {\n",
       "        vertical-align: top;\n",
       "    }\n",
       "\n",
       "    .dataframe thead th {\n",
       "        text-align: right;\n",
       "    }\n",
       "</style>\n",
       "<table border=\"1\" class=\"dataframe\">\n",
       "  <thead>\n",
       "    <tr style=\"text-align: right;\">\n",
       "      <th></th>\n",
       "      <th>oldbalanceOrgEqlAmt</th>\n",
       "      <th>amount</th>\n",
       "      <th>type_CASH_OUT</th>\n",
       "      <th>type_DEBIT</th>\n",
       "      <th>type_PAYMENT</th>\n",
       "      <th>type_TRANSFER</th>\n",
       "    </tr>\n",
       "  </thead>\n",
       "  <tbody>\n",
       "    <tr>\n",
       "      <th>0</th>\n",
       "      <td>False</td>\n",
       "      <td>23557.12</td>\n",
       "      <td>0</td>\n",
       "      <td>0</td>\n",
       "      <td>0</td>\n",
       "      <td>0</td>\n",
       "    </tr>\n",
       "    <tr>\n",
       "      <th>1</th>\n",
       "      <td>False</td>\n",
       "      <td>6236.13</td>\n",
       "      <td>0</td>\n",
       "      <td>0</td>\n",
       "      <td>1</td>\n",
       "      <td>0</td>\n",
       "    </tr>\n",
       "    <tr>\n",
       "      <th>2</th>\n",
       "      <td>False</td>\n",
       "      <td>33981.87</td>\n",
       "      <td>0</td>\n",
       "      <td>0</td>\n",
       "      <td>1</td>\n",
       "      <td>0</td>\n",
       "    </tr>\n",
       "    <tr>\n",
       "      <th>3</th>\n",
       "      <td>False</td>\n",
       "      <td>263006.42</td>\n",
       "      <td>1</td>\n",
       "      <td>0</td>\n",
       "      <td>0</td>\n",
       "      <td>0</td>\n",
       "    </tr>\n",
       "    <tr>\n",
       "      <th>4</th>\n",
       "      <td>False</td>\n",
       "      <td>152013.74</td>\n",
       "      <td>1</td>\n",
       "      <td>0</td>\n",
       "      <td>0</td>\n",
       "      <td>0</td>\n",
       "    </tr>\n",
       "  </tbody>\n",
       "</table>\n",
       "</div>"
      ],
      "text/plain": [
       "   oldbalanceOrgEqlAmt     amount  type_CASH_OUT  type_DEBIT  type_PAYMENT  \\\n",
       "0                False   23557.12              0           0             0   \n",
       "1                False    6236.13              0           0             1   \n",
       "2                False   33981.87              0           0             1   \n",
       "3                False  263006.42              1           0             0   \n",
       "4                False  152013.74              1           0             0   \n",
       "\n",
       "   type_TRANSFER  \n",
       "0              0  \n",
       "1              0  \n",
       "2              0  \n",
       "3              0  \n",
       "4              0  "
      ]
     },
     "execution_count": 36,
     "metadata": {},
     "output_type": "execute_result"
    }
   ],
   "source": [
    "predictors1 = pd.get_dummies (paysim [['type', 'oldbalanceOrgEqlAmt', 'amount']], drop_first = True)\n",
    "predictors1.head()"
   ]
  },
  {
   "cell_type": "code",
   "execution_count": 37,
   "metadata": {},
   "outputs": [
    {
     "name": "stdout",
     "output_type": "stream",
     "text": [
      "[[ 1.69582171e-01 -6.30067577e-07 -9.77905301e-01 -8.31398464e-02\n",
      "  -1.53968878e+00 -7.94938052e-02]]\n",
      "[-3.76261076]\n"
     ]
    }
   ],
   "source": [
    "lr1 = linear_model.LogisticRegression(solver='liblinear')\n",
    "predicted1 = lr1.fit (X = predictors1, y = paysim ['isFraud'])\n",
    "print (predicted1.coef_)\n",
    "print (predicted1.intercept_)"
   ]
  },
  {
   "cell_type": "code",
   "execution_count": 38,
   "metadata": {},
   "outputs": [
    {
     "data": {
      "text/html": [
       "<div>\n",
       "<style scoped>\n",
       "    .dataframe tbody tr th:only-of-type {\n",
       "        vertical-align: middle;\n",
       "    }\n",
       "\n",
       "    .dataframe tbody tr th {\n",
       "        vertical-align: top;\n",
       "    }\n",
       "\n",
       "    .dataframe thead th {\n",
       "        text-align: right;\n",
       "    }\n",
       "</style>\n",
       "<table border=\"1\" class=\"dataframe\">\n",
       "  <thead>\n",
       "    <tr style=\"text-align: right;\">\n",
       "      <th></th>\n",
       "      <th>lr1_coef</th>\n",
       "      <th>lr1_odds</th>\n",
       "    </tr>\n",
       "  </thead>\n",
       "  <tbody>\n",
       "    <tr>\n",
       "      <th>intercept</th>\n",
       "      <td>-3.762611e+00</td>\n",
       "      <td>0.023223</td>\n",
       "    </tr>\n",
       "    <tr>\n",
       "      <th>oldbalanceOrgEqlAmt</th>\n",
       "      <td>1.695822e-01</td>\n",
       "      <td>1.184810</td>\n",
       "    </tr>\n",
       "    <tr>\n",
       "      <th>amount</th>\n",
       "      <td>-6.300676e-07</td>\n",
       "      <td>0.999999</td>\n",
       "    </tr>\n",
       "    <tr>\n",
       "      <th>type_CASH_OUT</th>\n",
       "      <td>-9.779053e-01</td>\n",
       "      <td>0.376098</td>\n",
       "    </tr>\n",
       "    <tr>\n",
       "      <th>type_DEBIT</th>\n",
       "      <td>-8.313985e-02</td>\n",
       "      <td>0.920222</td>\n",
       "    </tr>\n",
       "    <tr>\n",
       "      <th>type_PAYMENT</th>\n",
       "      <td>-1.539689e+00</td>\n",
       "      <td>0.214448</td>\n",
       "    </tr>\n",
       "    <tr>\n",
       "      <th>type_TRANSFER</th>\n",
       "      <td>-7.949381e-02</td>\n",
       "      <td>0.923584</td>\n",
       "    </tr>\n",
       "  </tbody>\n",
       "</table>\n",
       "</div>"
      ],
      "text/plain": [
       "                         lr1_coef  lr1_odds\n",
       "intercept           -3.762611e+00  0.023223\n",
       "oldbalanceOrgEqlAmt  1.695822e-01  1.184810\n",
       "amount              -6.300676e-07  0.999999\n",
       "type_CASH_OUT       -9.779053e-01  0.376098\n",
       "type_DEBIT          -8.313985e-02  0.920222\n",
       "type_PAYMENT        -1.539689e+00  0.214448\n",
       "type_TRANSFER       -7.949381e-02  0.923584"
      ]
     },
     "execution_count": 38,
     "metadata": {},
     "output_type": "execute_result"
    }
   ],
   "source": [
    "values = np.append (predicted1.intercept_, predicted1.coef_)\n",
    "\n",
    "names = np.append ('intercept', predictors1.columns)\n",
    "\n",
    "results = pd.DataFrame (values, index = names, columns = ['lr1_coef'])\n",
    "results ['lr1_odds'] = np.exp (results ['lr1_coef'])\n",
    "results"
   ]
  },
  {
   "cell_type": "code",
   "execution_count": 39,
   "metadata": {},
   "outputs": [
    {
     "name": "stdout",
     "output_type": "stream",
     "text": [
      "[[13.36782621 -0.07610576 -0.21602203 -1.93902549  1.37010337]]\n",
      "[-9.67481608]\n"
     ]
    }
   ],
   "source": [
    "#Step and amount do not appear to be signicant predictors of fraud, so we remove them from the model\n",
    "predictors2 = pd.get_dummies (paysim [['type', 'oldbalanceOrgEqlAmt']], drop_first = True)\n",
    "lr2 = linear_model.LogisticRegression(solver='liblinear')\n",
    "predicted2 = lr2.fit (X = predictors2, y = paysim ['isFraud'])\n",
    "print (predicted2.coef_)\n",
    "print (predicted2.intercept_)"
   ]
  },
  {
   "cell_type": "code",
   "execution_count": 40,
   "metadata": {},
   "outputs": [
    {
     "data": {
      "text/html": [
       "<div>\n",
       "<style scoped>\n",
       "    .dataframe tbody tr th:only-of-type {\n",
       "        vertical-align: middle;\n",
       "    }\n",
       "\n",
       "    .dataframe tbody tr th {\n",
       "        vertical-align: top;\n",
       "    }\n",
       "\n",
       "    .dataframe thead th {\n",
       "        text-align: right;\n",
       "    }\n",
       "</style>\n",
       "<table border=\"1\" class=\"dataframe\">\n",
       "  <thead>\n",
       "    <tr style=\"text-align: right;\">\n",
       "      <th></th>\n",
       "      <th>lr2_coef</th>\n",
       "      <th>lr2_odds</th>\n",
       "    </tr>\n",
       "  </thead>\n",
       "  <tbody>\n",
       "    <tr>\n",
       "      <th>intercept</th>\n",
       "      <td>-9.674816</td>\n",
       "      <td>0.000063</td>\n",
       "    </tr>\n",
       "    <tr>\n",
       "      <th>oldbalanceOrgEqlAmt</th>\n",
       "      <td>13.367826</td>\n",
       "      <td>639106.387417</td>\n",
       "    </tr>\n",
       "    <tr>\n",
       "      <th>type_CASH_OUT</th>\n",
       "      <td>-0.076106</td>\n",
       "      <td>0.926718</td>\n",
       "    </tr>\n",
       "    <tr>\n",
       "      <th>type_DEBIT</th>\n",
       "      <td>-0.216022</td>\n",
       "      <td>0.805718</td>\n",
       "    </tr>\n",
       "    <tr>\n",
       "      <th>type_PAYMENT</th>\n",
       "      <td>-1.939025</td>\n",
       "      <td>0.143844</td>\n",
       "    </tr>\n",
       "    <tr>\n",
       "      <th>type_TRANSFER</th>\n",
       "      <td>1.370103</td>\n",
       "      <td>3.935758</td>\n",
       "    </tr>\n",
       "  </tbody>\n",
       "</table>\n",
       "</div>"
      ],
      "text/plain": [
       "                      lr2_coef       lr2_odds\n",
       "intercept            -9.674816       0.000063\n",
       "oldbalanceOrgEqlAmt  13.367826  639106.387417\n",
       "type_CASH_OUT        -0.076106       0.926718\n",
       "type_DEBIT           -0.216022       0.805718\n",
       "type_PAYMENT         -1.939025       0.143844\n",
       "type_TRANSFER         1.370103       3.935758"
      ]
     },
     "execution_count": 40,
     "metadata": {},
     "output_type": "execute_result"
    }
   ],
   "source": [
    "values = np.append (predicted2.intercept_, predicted2.coef_)\n",
    "\n",
    "names = np.append ('intercept', predictors2.columns)\n",
    "\n",
    "results = pd.DataFrame (values, index = names, columns = ['lr2_coef'])\n",
    "results ['lr2_odds'] = np.exp (results ['lr2_coef'])\n",
    "results"
   ]
  },
  {
   "cell_type": "code",
   "execution_count": null,
   "metadata": {},
   "outputs": [],
   "source": []
  }
 ],
 "metadata": {
  "kernelspec": {
   "display_name": "Python 3",
   "language": "python",
   "name": "python3"
  },
  "language_info": {
   "codemirror_mode": {
    "name": "ipython",
    "version": 3
   },
   "file_extension": ".py",
   "mimetype": "text/x-python",
   "name": "python",
   "nbconvert_exporter": "python",
   "pygments_lexer": "ipython3",
   "version": "3.7.1"
  }
 },
 "nbformat": 4,
 "nbformat_minor": 2
}
